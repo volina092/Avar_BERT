{
 "cells": [
  {
   "cell_type": "code",
   "execution_count": 75,
   "id": "db1c43a1-e4c9-4c76-83e0-f653b5b81afd",
   "metadata": {
    "editable": true,
    "slideshow": {
     "slide_type": ""
    },
    "tags": []
   },
   "outputs": [],
   "source": [
    "import re\n",
    "import json\n",
    "import time\n",
    "from langdetect import detect as get_lang\n",
    "from tqdm import tqdm"
   ]
  },
  {
   "cell_type": "code",
   "execution_count": 61,
   "id": "f6162b7a-bd4e-4d24-ba6b-c395b20eca6b",
   "metadata": {},
   "outputs": [],
   "source": [
    "with open('.json', 'r', encoding='utf-8') as in_file:\n",
    "    data = json.load(in_file)"
   ]
  },
  {
   "cell_type": "code",
   "execution_count": 107,
   "id": "9d45cbda-a425-4465-8417-f62feecd597e",
   "metadata": {
    "editable": true,
    "slideshow": {
     "slide_type": ""
    },
    "tags": []
   },
   "outputs": [],
   "source": [
    "with open('xakikat.json', 'w', encoding='utf-8') as outfile:\n",
    "    json.dump({'texts': result}, outfile, ensure_ascii=False)"
   ]
  },
  {
   "cell_type": "code",
   "execution_count": 96,
   "id": "ef537a8d-de63-491a-abab-e1fe64213bc7",
   "metadata": {},
   "outputs": [],
   "source": [
    "with open('xakikat_doubt.json', 'r', encoding='utf-8') as in_file:\n",
    "    res = json.load(in_file)"
   ]
  },
  {
   "cell_type": "code",
   "execution_count": 98,
   "id": "35fea90d-9635-4f48-b3f0-d228f953be8c",
   "metadata": {},
   "outputs": [],
   "source": [
    "doubt_result = res['texts']"
   ]
  },
  {
   "cell_type": "code",
   "execution_count": 62,
   "id": "efac4544-ffca-4c45-9e85-baf92f992959",
   "metadata": {},
   "outputs": [],
   "source": [
    "messages = list(filter(lambda msg: msg['type'] == 'message', data['messages']))"
   ]
  },
  {
   "cell_type": "code",
   "execution_count": 106,
   "id": "c525a663-769c-45a7-8b52-556deccf1f60",
   "metadata": {
    "editable": true,
    "slideshow": {
     "slide_type": ""
    },
    "tags": []
   },
   "outputs": [
    {
     "name": "stderr",
     "output_type": "stream",
     "text": [
      " 35%|██████████████████████████▎                                                | 4478/12767 [00:03<00:04, 1918.31it/s]"
     ]
    },
    {
     "name": "stdout",
     "output_type": "stream",
     "text": [
      "ALARM 4\n"
     ]
    },
    {
     "name": "stderr",
     "output_type": "stream",
     "text": [
      " 44%|█████████████████████████████████▎                                         | 5680/12767 [00:04<00:07, 1005.62it/s]"
     ]
    },
    {
     "name": "stdout",
     "output_type": "stream",
     "text": [
      "ALARM http://md-gazeta.ru/obshhestvo/118551\n"
     ]
    },
    {
     "name": "stderr",
     "output_type": "stream",
     "text": [
      " 61%|██████████████████████████████████████████████▍                             | 7800/12767 [00:09<00:10, 455.66it/s]"
     ]
    },
    {
     "name": "stdout",
     "output_type": "stream",
     "text": [
      "ALARM  .\n"
     ]
    },
    {
     "name": "stderr",
     "output_type": "stream",
     "text": [
      " 65%|█████████████████████████████████████████████████▋                          | 8354/12767 [00:10<00:07, 566.00it/s]"
     ]
    },
    {
     "name": "stdout",
     "output_type": "stream",
     "text": [
      "ALARM 😂😂😂\n",
      "ALARM 😀👍👍👍\n"
     ]
    },
    {
     "name": "stderr",
     "output_type": "stream",
     "text": [
      " 69%|████████████████████████████████████████████████████▎                       | 8778/12767 [00:11<00:10, 381.31it/s]"
     ]
    },
    {
     "name": "stdout",
     "output_type": "stream",
     "text": [
      "ALARM 🤲🏻✨\n"
     ]
    },
    {
     "name": "stderr",
     "output_type": "stream",
     "text": [
      " 77%|██████████████████████████████████████████████████████████▊                 | 9879/12767 [00:14<00:09, 313.86it/s]"
     ]
    },
    {
     "name": "stdout",
     "output_type": "stream",
     "text": [
      "ALARM ?\n"
     ]
    },
    {
     "name": "stderr",
     "output_type": "stream",
     "text": [
      "100%|███████████████████████████████████████████████████████████████████████████| 12767/12767 [00:22<00:00, 565.25it/s]\n"
     ]
    }
   ],
   "source": [
    "result = []\n",
    "other_result = []\n",
    "for i in tqdm(range(len(messages))):\n",
    "    msg = messages[i] \n",
    "    msg_res = ''\n",
    "    if msg[\"text\"] and not 'forwarded_from' in msg:\n",
    "        if type(msg[\"text\"]) == str:\n",
    "            msg_res = msg[\"text\"]\n",
    "        elif type(msg[\"text\"]) == list:\n",
    "            for part in msg[\"text\"]:\n",
    "                if part and type(part) == str:\n",
    "                    msg_res += part\n",
    "                elif type(part) == dict and part['type'] not in  ['mention', 'link'] and part['text'] : \n",
    "                    # print(type(part))\n",
    "                    msg_res += part['text']\n",
    "        msg_res = re.sub(r'\\s+', ' ', msg_res, flags=re.M)\n",
    "        try:\n",
    "            if msg_res and get_lang(msg_res) == 'ru':\n",
    "                # print(f'ALARM ru for {msg_res[:50]}')\n",
    "                # print(msg)\n",
    "                # input()\n",
    "                other_result.append(msg_res)\n",
    "            elif msg_res: \n",
    "                result.append(msg_res)\n",
    "        except:\n",
    "            print('ALARM ' + msg_res)"
   ]
  },
  {
   "cell_type": "code",
   "execution_count": 87,
   "id": "e3a7a9a7-3cbe-40e9-a646-8c4588fc6362",
   "metadata": {},
   "outputs": [
    {
     "data": {
      "text/plain": [
       "0.9999968076909864"
      ]
     },
     "execution_count": 87,
     "metadata": {},
     "output_type": "execute_result"
    }
   ],
   "source": [
    "detect_langs(doubt_result[1])[0].lang\n",
    "detect_langs(doubt_result[1])[0].prob"
   ]
  },
  {
   "cell_type": "code",
   "execution_count": 103,
   "id": "c19aabe1-24c5-44e9-9094-2229785e597c",
   "metadata": {},
   "outputs": [],
   "source": [
    "from langdetect import detect_langs\n",
    "result = []\n",
    "doubt_res = []\n",
    "for item in other_result:\n",
    "    guesses = {guess.lang: guess.prob for guess in detect_langs(item)}\n",
    "    # if 'ru' not in guesses:\n",
    "    #     print('ALARM ' + item)\n",
    "    if 'ru' not in guesses or (guesses['ru'] < 0.72 and not 'mk' in guesses):\n",
    "        result.append(item)\n",
    "    else:\n",
    "        doubt_res.append(item)\n",
    "    # print(guesses)\n",
    "    # input()\n",
    "    "
   ]
  },
  {
   "cell_type": "code",
   "execution_count": 30,
   "id": "8e6aaa53-6084-4d4a-b291-0111c933d430",
   "metadata": {},
   "outputs": [
    {
     "name": "stdout",
     "output_type": "stream",
     "text": [
      "Detected language: en\n"
     ]
    }
   ],
   "source": [
    "text = \"Hello, how are you? This is English text.\"\n",
    "language = get_lang(text)\n",
    "print(\"Detected language:\", language)"
   ]
  },
  {
   "cell_type": "code",
   "execution_count": 43,
   "id": "31988739-f5c6-42c0-afda-f3841a10bcae",
   "metadata": {},
   "outputs": [],
   "source": [
    "set_type = set()\n",
    "\n",
    "        "
   ]
  },
  {
   "cell_type": "code",
   "execution_count": 44,
   "id": "e624cce7-5d2f-4816-9dc7-96c4f179f367",
   "metadata": {},
   "outputs": [
    {
     "data": {
      "text/plain": [
       "{'bold', 'italic', 'link', 'mention', 'plain', 'text_link'}"
      ]
     },
     "execution_count": 44,
     "metadata": {},
     "output_type": "execute_result"
    }
   ],
   "source": [
    "set_type"
   ]
  },
  {
   "cell_type": "code",
   "execution_count": 7,
   "id": "cd5bd916-7d72-45cc-a2ff-6f4428965e6a",
   "metadata": {},
   "outputs": [],
   "source": []
  },
  {
   "cell_type": "code",
   "execution_count": 10,
   "id": "331f07a2-0558-43ac-a64f-9359b85ef3b3",
   "metadata": {},
   "outputs": [
    {
     "name": "stdout",
     "output_type": "stream",
     "text": [
      "['Сервис', 'поиску', 'работы', 'сотрудников', 'HeadHunter', 'опубликовал', 'подборку', 'высокооплачиваемых', 'вакансий', 'России', 'август.']\n",
      "Отфильтрованная строка:a Сервис поиску работы сотрудников HeadHunter опубликовал подборку высокооплачиваемых вакансий России август.\n"
     ]
    }
   ],
   "source": [
    "\n",
    "\"\"\"\n",
    "    Программа для удаления стоп-слов\n",
    "    из строки используя функцию filter()\n",
    "\"\"\"\n",
    "\n",
    "# Список стоп-слов\n",
    "list_of_stop_words = [\"в\", \"и\", \"по\", \"за\"]\n",
    "\n",
    "# Строка со стоп-словами\n",
    "string_to_process = \"Сервис по поиску работы и сотрудников HeadHunter опубликовал подборку высокооплачиваемых вакансий в России за август.\"\n",
    "\n",
    "# lambda-функция, фильтрующая стоп-слова\n",
    "split_str = string_to_process.split()\n",
    "print(list(filter(lambda s: s not in list_of_stop_words, split_str)))\n",
    "\n",
    "print(\"Отфильтрованная строка:a\", filtered_str)"
   ]
  }
 ],
 "metadata": {
  "kernelspec": {
   "display_name": "Python 3 (ipykernel)",
   "language": "python",
   "name": "python3"
  },
  "language_info": {
   "codemirror_mode": {
    "name": "ipython",
    "version": 3
   },
   "file_extension": ".py",
   "mimetype": "text/x-python",
   "name": "python",
   "nbconvert_exporter": "python",
   "pygments_lexer": "ipython3",
   "version": "3.10.10"
  }
 },
 "nbformat": 4,
 "nbformat_minor": 5
}
