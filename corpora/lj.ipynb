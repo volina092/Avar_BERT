{
 "cells": [
  {
   "cell_type": "code",
   "execution_count": 16,
   "id": "a0e3e443-c8e4-4654-ac65-caa88f73f89c",
   "metadata": {},
   "outputs": [],
   "source": [
    "import requests\n",
    "from bs4 import BeautifulSoup as bs\n",
    "import re\n",
    "import json\n",
    "import time"
   ]
  },
  {
   "cell_type": "code",
   "execution_count": 17,
   "id": "03fb8431-360e-42af-8579-f3d99f4f1458",
   "metadata": {},
   "outputs": [],
   "source": [
    "def get_posts_links(username, skip):\n",
    "    links = set()\n",
    "    soup = bs(requests.get(f'https://{username}.livejournal.com/?skip={i}').text, 'html.parser')\n",
    "    for link in soup.find_all('a'):\n",
    "        href = link.get('href')\n",
    "        if href:\n",
    "            match = re.match(r'https:\\/\\/' + username + r'\\.livejournal\\.com\\/\\d*\\.html', href)\n",
    "            if match and match[0] == href:\n",
    "                links.add(href)\n",
    "    return links\n",
    "# get_posts_links('https://.livejournal.com/') # например для первой страницы"
   ]
  },
  {
   "cell_type": "code",
   "execution_count": 18,
   "id": "cc24ad61-554e-4d8c-8d6d-8df4fd2d917a",
   "metadata": {},
   "outputs": [],
   "source": [
    "def get_text_of_post(link):\n",
    "    soup = bs(requests.get(link).text, 'html.parser')\n",
    "    # print(soup)\n",
    "    # soup.find('div', class_='asset-body').get_text()[6:]\n",
    "    # print(soup.find('div', class_='entry-content').get_text())\n",
    "    res = soup.find('div', class_='entry-content').get_text()\n",
    "    res = res.replace('\\ufeff', ' ')\n",
    "    res = ' '.join(res.split())\n",
    "    return res[:res.find(\"Tags:\")]"
   ]
  },
  {
   "cell_type": "code",
   "execution_count": 19,
   "id": "ccfd1f53-0df0-45fe-9b9f-61a079126df8",
   "metadata": {},
   "outputs": [],
   "source": [
    "posts = set()\n",
    "for i in range(0, 20, 10): # можно вызять и больше, гдавное, чтобы число делилось на 10 (ну и чтобы в блоге вообще столько было)\n",
    "    posts = posts | get_posts_links('avarblog', i)\n",
    "    time.sleep(0.2)"
   ]
  },
  {
   "cell_type": "code",
   "execution_count": 16,
   "id": "c79b517e-4262-4f18-bffb-6240428c49a6",
   "metadata": {},
   "outputs": [],
   "source": [
    "# get_text_of_post('https://saigidali.livejournal.com/2974.html')"
   ]
  },
  {
   "cell_type": "code",
   "execution_count": 20,
   "id": "97263af3-8bc3-4ef0-b81e-4f37c1cea049",
   "metadata": {
    "editable": true,
    "slideshow": {
     "slide_type": ""
    },
    "tags": []
   },
   "outputs": [
    {
     "data": {
      "text/plain": [
       "{'https://avarblog.livejournal.com/1508.html',\n",
       " 'https://avarblog.livejournal.com/1745.html',\n",
       " 'https://avarblog.livejournal.com/2004.html',\n",
       " 'https://avarblog.livejournal.com/2179.html',\n",
       " 'https://avarblog.livejournal.com/2350.html',\n",
       " 'https://avarblog.livejournal.com/2655.html',\n",
       " 'https://avarblog.livejournal.com/3019.html',\n",
       " 'https://avarblog.livejournal.com/3104.html',\n",
       " 'https://avarblog.livejournal.com/3390.html',\n",
       " 'https://avarblog.livejournal.com/3748.html',\n",
       " 'https://avarblog.livejournal.com/3889.html',\n",
       " 'https://avarblog.livejournal.com/4134.html',\n",
       " 'https://avarblog.livejournal.com/5337.html',\n",
       " 'https://avarblog.livejournal.com/5428.html',\n",
       " 'https://avarblog.livejournal.com/5659.html',\n",
       " 'https://avarblog.livejournal.com/5941.html',\n",
       " 'https://avarblog.livejournal.com/6448.html',\n",
       " 'https://avarblog.livejournal.com/6746.html',\n",
       " 'https://avarblog.livejournal.com/6993.html',\n",
       " 'https://avarblog.livejournal.com/7185.html'}"
      ]
     },
     "execution_count": 20,
     "metadata": {},
     "output_type": "execute_result"
    }
   ],
   "source": [
    "posts"
   ]
  },
  {
   "cell_type": "code",
   "execution_count": 21,
   "id": "f29283e4-e4b4-4882-9029-371a2d2ff509",
   "metadata": {
    "scrolled": true
   },
   "outputs": [],
   "source": [
    "posts_text = []\n",
    "for post_link in posts:\n",
    "    posts_text.append(get_text_of_post(post_link))"
   ]
  },
  {
   "cell_type": "code",
   "execution_count": 28,
   "id": "f0c99dd9-8936-439b-aa95-ab2a6be49e27",
   "metadata": {},
   "outputs": [
    {
     "data": {
      "text/plain": [
       "False"
      ]
     },
     "execution_count": 28,
     "metadata": {},
     "output_type": "execute_result"
    }
   ],
   "source": [
    "'a\\ufeffa'.split() == 'a a'.split()"
   ]
  },
  {
   "cell_type": "code",
   "execution_count": 29,
   "id": "c4824fb7-db03-4044-b511-b745246fc035",
   "metadata": {},
   "outputs": [],
   "source": [
    "for post in posts_text:\n",
    "    post = post.replace('\\ufeff', ' ')\n",
    "    post = ' '.join(post.split())"
   ]
  },
  {
   "cell_type": "code",
   "execution_count": 30,
   "id": "0efb2ae4-b2e7-4052-952d-108526c5f61e",
   "metadata": {},
   "outputs": [],
   "source": [
    "json_dict = {'texts': [posts_text]}\n",
    "# json_dict['texts'] = posts_text"
   ]
  },
  {
   "cell_type": "code",
   "execution_count": 31,
   "id": "9a6d7f01-115d-4171-b503-d97c10212bcd",
   "metadata": {},
   "outputs": [
    {
     "ename": "UnicodeEncodeError",
     "evalue": "'charmap' codec can't encode character '\\ufeff' in position 3762: character maps to <undefined>",
     "output_type": "error",
     "traceback": [
      "\u001b[1;31m---------------------------------------------------------------------------\u001b[0m",
      "\u001b[1;31mUnicodeEncodeError\u001b[0m                        Traceback (most recent call last)",
      "Cell \u001b[1;32mIn[31], line 2\u001b[0m\n\u001b[0;32m      1\u001b[0m \u001b[38;5;28;01mwith\u001b[39;00m \u001b[38;5;28mopen\u001b[39m(\u001b[38;5;124m'\u001b[39m\u001b[38;5;124mavarblog_lj.json\u001b[39m\u001b[38;5;124m'\u001b[39m, \u001b[38;5;124m'\u001b[39m\u001b[38;5;124mw\u001b[39m\u001b[38;5;124m'\u001b[39m) \u001b[38;5;28;01mas\u001b[39;00m outfile:\n\u001b[1;32m----> 2\u001b[0m     \u001b[43mjson\u001b[49m\u001b[38;5;241;43m.\u001b[39;49m\u001b[43mdump\u001b[49m\u001b[43m(\u001b[49m\u001b[43mjson_dict\u001b[49m\u001b[43m,\u001b[49m\u001b[43m \u001b[49m\u001b[43moutfile\u001b[49m\u001b[43m,\u001b[49m\u001b[43m \u001b[49m\u001b[43mensure_ascii\u001b[49m\u001b[38;5;241;43m=\u001b[39;49m\u001b[38;5;28;43;01mFalse\u001b[39;49;00m\u001b[43m)\u001b[49m\n",
      "File \u001b[1;32m~\\AppData\\Local\\Programs\\Python\\Python310\\lib\\json\\__init__.py:180\u001b[0m, in \u001b[0;36mdump\u001b[1;34m(obj, fp, skipkeys, ensure_ascii, check_circular, allow_nan, cls, indent, separators, default, sort_keys, **kw)\u001b[0m\n\u001b[0;32m    177\u001b[0m \u001b[38;5;66;03m# could accelerate with writelines in some versions of Python, at\u001b[39;00m\n\u001b[0;32m    178\u001b[0m \u001b[38;5;66;03m# a debuggability cost\u001b[39;00m\n\u001b[0;32m    179\u001b[0m \u001b[38;5;28;01mfor\u001b[39;00m chunk \u001b[38;5;129;01min\u001b[39;00m iterable:\n\u001b[1;32m--> 180\u001b[0m     \u001b[43mfp\u001b[49m\u001b[38;5;241;43m.\u001b[39;49m\u001b[43mwrite\u001b[49m\u001b[43m(\u001b[49m\u001b[43mchunk\u001b[49m\u001b[43m)\u001b[49m\n",
      "File \u001b[1;32m~\\AppData\\Local\\Programs\\Python\\Python310\\lib\\encodings\\cp1251.py:19\u001b[0m, in \u001b[0;36mIncrementalEncoder.encode\u001b[1;34m(self, input, final)\u001b[0m\n\u001b[0;32m     18\u001b[0m \u001b[38;5;28;01mdef\u001b[39;00m \u001b[38;5;21mencode\u001b[39m(\u001b[38;5;28mself\u001b[39m, \u001b[38;5;28minput\u001b[39m, final\u001b[38;5;241m=\u001b[39m\u001b[38;5;28;01mFalse\u001b[39;00m):\n\u001b[1;32m---> 19\u001b[0m     \u001b[38;5;28;01mreturn\u001b[39;00m \u001b[43mcodecs\u001b[49m\u001b[38;5;241;43m.\u001b[39;49m\u001b[43mcharmap_encode\u001b[49m\u001b[43m(\u001b[49m\u001b[38;5;28;43minput\u001b[39;49m\u001b[43m,\u001b[49m\u001b[38;5;28;43mself\u001b[39;49m\u001b[38;5;241;43m.\u001b[39;49m\u001b[43merrors\u001b[49m\u001b[43m,\u001b[49m\u001b[43mencoding_table\u001b[49m\u001b[43m)\u001b[49m[\u001b[38;5;241m0\u001b[39m]\n",
      "\u001b[1;31mUnicodeEncodeError\u001b[0m: 'charmap' codec can't encode character '\\ufeff' in position 3762: character maps to <undefined>"
     ]
    }
   ],
   "source": [
    "with open('avarblog_lj.json', 'w') as outfile:\n",
    "    json.dump(json_dict, outfile, ensure_ascii=False)"
   ]
  },
  {
   "cell_type": "code",
   "execution_count": 35,
   "id": "c631a710-cc1e-4426-b281-949fbeffe17d",
   "metadata": {},
   "outputs": [
    {
     "name": "stdout",
     "output_type": "stream",
     "text": [
      "Python 3.10.10\n"
     ]
    }
   ],
   "source": [
    "! python -V"
   ]
  }
 ],
 "metadata": {
  "kernelspec": {
   "display_name": "Python 3 (ipykernel)",
   "language": "python",
   "name": "python3"
  },
  "language_info": {
   "codemirror_mode": {
    "name": "ipython",
    "version": 3
   },
   "file_extension": ".py",
   "mimetype": "text/x-python",
   "name": "python",
   "nbconvert_exporter": "python",
   "pygments_lexer": "ipython3",
   "version": "3.10.10"
  }
 },
 "nbformat": 4,
 "nbformat_minor": 5
}
