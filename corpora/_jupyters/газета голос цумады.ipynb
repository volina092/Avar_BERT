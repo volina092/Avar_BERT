{
 "cells": [
  {
   "cell_type": "code",
   "execution_count": 28,
   "id": "e5e5ed7a-49d9-4ea9-863f-d54c7fb975d4",
   "metadata": {},
   "outputs": [],
   "source": [
    "import requests\n",
    "from bs4 import BeautifulSoup as bs\n",
    "import re\n",
    "import json\n",
    "import time\n",
    "from tqdm import tqdm\n",
    "from pyperclip import copy as copy_2cb\n",
    "import PyPDF2\n"
   ]
  },
  {
   "cell_type": "code",
   "execution_count": 6,
   "id": "221cfcad-b8f7-4a3a-85c7-47fbc616be11",
   "metadata": {},
   "outputs": [],
   "source": [
    "url_list_release = 'http://www.mo-tsumada.ru/index.php/2-uncategorised/661-gazeta-golos-tsumady'\n",
    "url_beginning = 'http://www.mo-tsumada.ru'"
   ]
  },
  {
   "cell_type": "code",
   "execution_count": 4,
   "id": "7c264a79-0e1d-402d-b3e0-3b785300797b",
   "metadata": {},
   "outputs": [],
   "source": [
    "# получить список выпусков\n",
    "releases = []\n",
    "req = requests.get(url_list_release)\n",
    "# req.encoding = 'windows-1251'\n",
    "soup = bs(req.text, 'html.parser')"
   ]
  },
  {
   "cell_type": "code",
   "execution_count": 17,
   "id": "adcb7e8a-abdf-4ea1-bd4a-239fdb13edae",
   "metadata": {},
   "outputs": [],
   "source": [
    "releases = [url_beginning + elem['href'] for elem in soup.find_all('a', {'class': 'at_url'})]\n",
    "# == [elem['href'] for elem in soup.find_all('a', {'class': 'at_icon'})]"
   ]
  },
  {
   "cell_type": "code",
   "execution_count": 21,
   "id": "4405a0c6-3017-454e-a8cc-c663bda988a1",
   "metadata": {},
   "outputs": [],
   "source": [
    "def get_title_from_url(url): return url[url.rfind('/') + 1:]"
   ]
  },
  {
   "cell_type": "code",
   "execution_count": 41,
   "id": "1a518403-2250-497a-9a5b-281cf94f2b9f",
   "metadata": {},
   "outputs": [
    {
     "data": {
      "text/plain": [
       "'http://www.mo-tsumada.ru/attachments/article/661/№21 19042024.pdf'"
      ]
     },
     "execution_count": 41,
     "metadata": {},
     "output_type": "execute_result"
    }
   ],
   "source": [
    "releases[0]"
   ]
  },
  {
   "cell_type": "code",
   "execution_count": 26,
   "id": "065eaaf3-32cd-48da-bf86-ea3b8e4bb795",
   "metadata": {},
   "outputs": [],
   "source": [
    "# url = releases[0]\n",
    "\n",
    "for url in releases:\n",
    "    response = requests.get(url)\n",
    "    with open('golos_tsumada/pdf/' + get_title_from_url(url), 'wb') as file:\n",
    "        file.write(response.content)"
   ]
  },
  {
   "cell_type": "markdown",
   "id": "e68b2cfa-95be-49e2-a98a-00e5efcac464",
   "metadata": {},
   "source": [
    "##### получить текст"
   ]
  },
  {
   "cell_type": "code",
   "execution_count": 69,
   "id": "092d8e1f-102b-4ea9-852b-012a9cf397bd",
   "metadata": {},
   "outputs": [],
   "source": [
    "\n",
    "# Открываем PDF-файл\n",
    "def get_rel_text(rel_title):\n",
    "    with open('golos_tsumada/pdf/' + rel_title, 'rb') as file:\n",
    "        reader = PyPDF2.PdfReader(file)\n",
    "        rel_pages = []\n",
    "        for page in reader.pages:\n",
    "            # print(page.extract_text())\n",
    "            rel_pages.append(page.extract_text())\n",
    "        return rel_pages \n",
    "        # print(reader.pages[0].extract_text())"
   ]
  },
  {
   "cell_type": "code",
   "execution_count": 80,
   "id": "2e7c116e-42b0-4ba0-83e3-8e85df24ff82",
   "metadata": {},
   "outputs": [],
   "source": [
    "with open('голос цумады_0_все выпуски_без 249, 257.json', 'w', encoding='utf-8') as outfile:\n",
    "    json.dump(all_rels_pages, outfile, ensure_ascii = False)"
   ]
  },
  {
   "cell_type": "code",
   "execution_count": 79,
   "id": "fdcfd755-4024-495a-9d5b-fae81990d5d0",
   "metadata": {},
   "outputs": [
    {
     "name": "stderr",
     "output_type": "stream",
     "text": [
      "100%|██████████████████████████████████████████████████████████████████████████████████| 97/97 [00:50<00:00,  1.90it/s]\n"
     ]
    }
   ],
   "source": [
    "all_rels_pages = dict()\n",
    "for i in tqdm(range(257, len(releases))):\n",
    "    all_rels_pages[releases[i]] = get_rel_text(get_title_from_url(releases[i]))"
   ]
  },
  {
   "cell_type": "code",
   "execution_count": 82,
   "id": "36af1029-091e-4959-81e8-f005e5970535",
   "metadata": {},
   "outputs": [
    {
     "data": {
      "text/plain": [
       "'http://www.mo-tsumada.ru/attachments/article/661/№46 19102018.pdf'"
      ]
     },
     "execution_count": 82,
     "metadata": {},
     "output_type": "execute_result"
    }
   ],
   "source": [
    "releases[257]"
   ]
  }
 ],
 "metadata": {
  "kernelspec": {
   "display_name": "Python 3 (ipykernel)",
   "language": "python",
   "name": "python3"
  },
  "language_info": {
   "codemirror_mode": {
    "name": "ipython",
    "version": 3
   },
   "file_extension": ".py",
   "mimetype": "text/x-python",
   "name": "python",
   "nbconvert_exporter": "python",
   "pygments_lexer": "ipython3",
   "version": "3.10.10"
  }
 },
 "nbformat": 4,
 "nbformat_minor": 5
}
