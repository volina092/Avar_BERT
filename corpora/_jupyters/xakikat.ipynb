{
 "cells": [
  {
   "cell_type": "code",
   "execution_count": 21,
   "id": "9ce487bb-98f9-4c79-9af3-0f104386155d",
   "metadata": {},
   "outputs": [],
   "source": [
    "import requests\n",
    "from bs4 import BeautifulSoup as bs\n",
    "import re\n",
    "import json\n",
    "import time\n",
    "from tqdm import tqdm"
   ]
  },
  {
   "cell_type": "code",
   "execution_count": 4,
   "id": "90cdcc47-d447-4bd7-983f-ba87287187db",
   "metadata": {},
   "outputs": [],
   "source": [
    "from pyperclip import copy as copy_clipboard"
   ]
  },
  {
   "cell_type": "code",
   "execution_count": 14,
   "id": "5692d054-8c87-4378-8ac0-66334d39216c",
   "metadata": {},
   "outputs": [],
   "source": [
    "def get_links_content_page(url):\n",
    "    req = requests.get(url)\n",
    "    soup = bs(req.text, 'html.parser')\n",
    "    return {elem['href'] for elem in soup.find_all('a', href=True) if elem['href'].startswith('https://hakikat.info/?nationals=')}"
   ]
  },
  {
   "cell_type": "code",
   "execution_count": 32,
   "id": "0ff578c4-589f-4524-9656-0df9b6b5f62b",
   "metadata": {},
   "outputs": [],
   "source": [
    "def get_article_text(url):\n",
    "    req = requests.get(url)\n",
    "    soup = bs(req.text, 'html.parser')\n",
    "    try:\n",
    "        return soup.find('article')\n",
    "        # return soup.find('article').find('p').get_text(separator = '\\n', strip = True).replace('\\xad', '')\n",
    "    except:\n",
    "        print(url)\n",
    "        print(soup)"
   ]
  },
  {
   "cell_type": "code",
   "execution_count": 165,
   "id": "b0f59fad-faa9-4248-b69b-8e7e01ebea16",
   "metadata": {},
   "outputs": [],
   "source": [
    "def no_p_text(article):\n",
    "    res = '\\n'.join(txt.get_text().replace('\\xad', '').replace('\\xa0', ' ') for txt in article.find_all('div', {\"class\": ''}) if (txt and txt != ' '))\n",
    "    res = re.sub(r'[\\s]?\\n[\\n\\s]*', r'\\n', res)\n",
    "    res = re.sub(r' +', r' ', res)\n",
    "    res = re.sub(r'^[\\s]+', '', res)\n",
    "    res = re.sub(r'[\\s]+$', '', res)\n",
    "    return res\n",
    "    # return '\\n'.join(t.replace('\\xad', '').replace('\\xa0', ' ') for t in [txt.get_text(separator = '\\n', strip = True) for txt in article.find_all('div')] if t)"
   ]
  },
  {
   "cell_type": "code",
   "execution_count": 167,
   "id": "70c472ab-9965-424b-858f-c7fde92bfa18",
   "metadata": {},
   "outputs": [],
   "source": [
    "def get_text(article):\n",
    "    try:\n",
    "        return article.find('p').get_text(separator = '\\n', strip = True).replace('\\xad', '')\n",
    "    except:\n",
    "        try: \n",
    "            return no_p_text(article)\n",
    "        except:\n",
    "            print('ALARM')\n",
    "            # print(article)"
   ]
  },
  {
   "cell_type": "code",
   "execution_count": 80,
   "id": "565dcc32-a490-4b51-9c49-0e187d3ba34c",
   "metadata": {},
   "outputs": [],
   "source": [
    "test_url = 'https://hakikat.info/page/0/?post_type=nationals'"
   ]
  },
  {
   "cell_type": "code",
   "execution_count": 22,
   "id": "dc20738d-fa6d-4a25-9b11-bdd247f8bc4b",
   "metadata": {},
   "outputs": [
    {
     "name": "stderr",
     "output_type": "stream",
     "text": [
      "100%|████████████████████████████████████████████████████████████████████████████████| 252/252 [02:38<00:00,  1.59it/s]\n"
     ]
    }
   ],
   "source": [
    "links = set()\n",
    "for i in tqdm(range(252)):\n",
    "    links = links.union(get_links_content_page(f'https://hakikat.info/page/{str(i)}/?post_type=nationals'))\n",
    "    time.sleep(0.2)"
   ]
  },
  {
   "cell_type": "code",
   "execution_count": 173,
   "id": "3619585e-a940-4277-8109-f7984d5a79eb",
   "metadata": {},
   "outputs": [],
   "source": [
    "with open('xakikat_web_archive_0.json', 'w', encoding='utf-8') as outfile:\n",
    "    json.dump(list(set(art_array)), outfile, ensure_ascii = False)"
   ]
  },
  {
   "cell_type": "code",
   "execution_count": 64,
   "id": "a6096977-731a-4a6e-9c58-5317e641fa21",
   "metadata": {},
   "outputs": [],
   "source": [
    "n_type = type(list(articles)[0])"
   ]
  },
  {
   "cell_type": "code",
   "execution_count": 174,
   "id": "7fe28c79-cb1b-4d58-a6d1-b9dc0755ccef",
   "metadata": {},
   "outputs": [],
   "source": [
    "copy_clipboard(str(no_p_articles))"
   ]
  },
  {
   "cell_type": "code",
   "execution_count": 168,
   "id": "f19148d1-9a86-4f5c-b5f8-ce141b0fc530",
   "metadata": {},
   "outputs": [],
   "source": [
    "art_array = []"
   ]
  },
  {
   "cell_type": "code",
   "execution_count": 177,
   "id": "1517a472-e965-489d-a860-4d9a911336c9",
   "metadata": {},
   "outputs": [
    {
     "name": "stdout",
     "output_type": "stream",
     "text": [
      "<article class=\"cmsmasters_open_post post-56275 nationals type-nationals status-publish hentry kategories-tsiiyal-kharbal\" id=\"post-56275\">\n",
      "<header class=\"cmsmasters_post_header entry-header\"><h2 class=\"entry-title\">ВДНХаялда нилъер бечелъи</h2></header><div class=\"cmsmasters_post_content_wrap\"><div class=\"cmsmasters_post_content_inner\"><div class=\"cmsmasters_post_content entry-content\"><div class=\"react-pdf__Page PdfViewer__page--2mOsP\" data-page-number=\"1\">\n",
      "<div class=\"react-pdf__Page__textContent textLayer\"><span dir=\"ltr\" role=\"presentation\">Гьал къоязда Москваялда, ВДНХялда тIобитIулеб бугеб «Россия» халкъазда гьоркьосеб</span><br role=\"presentation\"/><span dir=\"ltr\" role=\"presentation\">выставка-форумалда гIахьаллъи гьабулеб буго Дагъистаналъул вакиллъиялъги. Гьениб,</span><br role=\"presentation\"/><span dir=\"ltr\" role=\"presentation\">анкьабилеб декабралда тIобитIана Дагъистаналъул къо. Тадбиралда гIахьаллъана ДРялъул</span><br role=\"presentation\"/><span dir=\"ltr\" role=\"presentation\">бетIер Сергей Меликовги х1укуматалъул цо-цо вакилзабиги. «Россия в миниатюре» абун</span><br role=\"presentation\"/><span dir=\"ltr\" role=\"presentation\">цIар лъуна гьес гьеб къоялъ ВДНХялда букIараб республикаялъул цебелъеялда. «Россия-</span><br role=\"presentation\"/><span dir=\"ltr\" role=\"presentation\">24» каналалъул хIалтIухъаналъе экскурсияги гьабуна Дагъистаналъул стендалда цеесан</span><br role=\"presentation\"/><span dir=\"ltr\" role=\"presentation\">свериги бахъулаго.</span><br role=\"presentation\"/><span dir=\"ltr\" role=\"presentation\">Выставкаялда бихьизабуна экономикаялъул, нухал раялъул, социалияб рахъалъул, лъай</span><br role=\"presentation\"/><span dir=\"ltr\" role=\"presentation\">кьеялъул, туризмалъул ва спорталъул рахъалъ республикаялъул ругел церетIеял.</span><br role=\"presentation\"/><span dir=\"ltr\" role=\"presentation\">Халкъазда гьоркьосеб выставкаялде рачIаразе рес букIана Расул ХIамзатовасул</span><br role=\"presentation\"/><span dir=\"ltr\" role=\"presentation\">творчествоялъулгун лъай-хъвай гьабизеги, Дагъистаналъул халкъазул батIи-батIияб</span><br role=\"presentation\"/><span dir=\"ltr\" role=\"presentation\">махщалил тIагIелал рихьизеги.</span><br role=\"presentation\"/><span dir=\"ltr\" role=\"presentation\">Дагъистаналъул выставка ВДНХялда бихьизабуна Дербенталъул НекIсияб хъалаялъул</span><br role=\"presentation\"/><span dir=\"ltr\" role=\"presentation\">сипат-сураталда.</span><br role=\"presentation\"/><span dir=\"ltr\" role=\"presentation\">ЦохIо Россиялъул регионаз гуребги батIи-батIиял компанияз ва жамгIиял идарабаз</span><br role=\"presentation\"/><span dir=\"ltr\" role=\"presentation\">гIахьаллъи гьабуна тадбиралда.</span><br role=\"presentation\"/><span dir=\"ltr\" role=\"presentation\">ВДНХялда бугеб выставка-форум халат бахъине буго т1адеялъул 12 апрелалде щвезег1ан.</span><br role=\"presentation\"/><span dir=\"ltr\" role=\"presentation\">Гьелъул х1акъалъулъ нижеца гIатIидго хъвазе буго газеталъул хадусел номеразда.</span><br role=\"presentation\"/><span dir=\"ltr\" role=\"presentation\">А. Юсупов</span>\n",
      "<div class=\"endOfContent\"></div>\n",
      "</div>\n",
      "</div>\n",
      "</div><div class=\"cmsmasters_post_cont_info_top entry-meta\"></div><div class=\"cmsmasters_post_cont_info entry-meta\"> <div class=\"cmsmasters_icon_wrap\" id=\"cmsmasters_icon_icu8m60mo4\"><span class=\"cmsmasters_simple_icon cmsmasters-icon-eye-1\"></span>0</div>\n",
      "<span class=\"cmsmasters_simple_icon cmsmasters-icon-eye-1\"></span><span class=\"cmsmasters_post_date\">2023-12-20 12:14:30</span><div class=\"cmsmasters_post_cont_info_meta\"><span class=\"cmsmasters_post_author\">Автор <a class=\"vcard author\" href=\"https://hakikat.info/kat/author/hakikatadmin/\" title=\"Пост автора hakikatadmin\"><span class=\"fn\">hakikatadmin</span></a></span></div></div></div></div></article>\n",
      "<article class=\"cmsmasters_open_post post-56275 nationals type-nationals status-publish hentry kategories-tsiiyal-kharbal\" id=\"post-56275\">\n",
      "<header class=\"cmsmasters_post_header entry-header\"><h2 class=\"entry-title\">ВДНХаялда нилъер бечелъи</h2></header><div class=\"cmsmasters_post_content_wrap\"><div class=\"cmsmasters_post_content_inner\"><div class=\"cmsmasters_post_content entry-content\"><div class=\"react-pdf__Page PdfViewer__page--2mOsP\" data-page-number=\"1\">\n",
      "<div class=\"react-pdf__Page__textContent textLayer\"><span dir=\"ltr\" role=\"presentation\">Гьал къоязда Москваялда, ВДНХялда тIобитIулеб бугеб «Россия» халкъазда гьоркьосеб</span><br role=\"presentation\"/><span dir=\"ltr\" role=\"presentation\">выставка-форумалда гIахьаллъи гьабулеб буго Дагъистаналъул вакиллъиялъги. Гьениб,</span><br role=\"presentation\"/><span dir=\"ltr\" role=\"presentation\">анкьабилеб декабралда тIобитIана Дагъистаналъул къо. Тадбиралда гIахьаллъана ДРялъул</span><br role=\"presentation\"/><span dir=\"ltr\" role=\"presentation\">бетIер Сергей Меликовги х1укуматалъул цо-цо вакилзабиги. «Россия в миниатюре» абун</span><br role=\"presentation\"/><span dir=\"ltr\" role=\"presentation\">цIар лъуна гьес гьеб къоялъ ВДНХялда букIараб республикаялъул цебелъеялда. «Россия-</span><br role=\"presentation\"/><span dir=\"ltr\" role=\"presentation\">24» каналалъул хIалтIухъаналъе экскурсияги гьабуна Дагъистаналъул стендалда цеесан</span><br role=\"presentation\"/><span dir=\"ltr\" role=\"presentation\">свериги бахъулаго.</span><br role=\"presentation\"/><span dir=\"ltr\" role=\"presentation\">Выставкаялда бихьизабуна экономикаялъул, нухал раялъул, социалияб рахъалъул, лъай</span><br role=\"presentation\"/><span dir=\"ltr\" role=\"presentation\">кьеялъул, туризмалъул ва спорталъул рахъалъ республикаялъул ругел церетIеял.</span><br role=\"presentation\"/><span dir=\"ltr\" role=\"presentation\">Халкъазда гьоркьосеб выставкаялде рачIаразе рес букIана Расул ХIамзатовасул</span><br role=\"presentation\"/><span dir=\"ltr\" role=\"presentation\">творчествоялъулгун лъай-хъвай гьабизеги, Дагъистаналъул халкъазул батIи-батIияб</span><br role=\"presentation\"/><span dir=\"ltr\" role=\"presentation\">махщалил тIагIелал рихьизеги.</span><br role=\"presentation\"/><span dir=\"ltr\" role=\"presentation\">Дагъистаналъул выставка ВДНХялда бихьизабуна Дербенталъул НекIсияб хъалаялъул</span><br role=\"presentation\"/><span dir=\"ltr\" role=\"presentation\">сипат-сураталда.</span><br role=\"presentation\"/><span dir=\"ltr\" role=\"presentation\">ЦохIо Россиялъул регионаз гуребги батIи-батIиял компанияз ва жамгIиял идарабаз</span><br role=\"presentation\"/><span dir=\"ltr\" role=\"presentation\">гIахьаллъи гьабуна тадбиралда.</span><br role=\"presentation\"/><span dir=\"ltr\" role=\"presentation\">ВДНХялда бугеб выставка-форум халат бахъине буго т1адеялъул 12 апрелалде щвезег1ан.</span><br role=\"presentation\"/><span dir=\"ltr\" role=\"presentation\">Гьелъул х1акъалъулъ нижеца гIатIидго хъвазе буго газеталъул хадусел номеразда.</span><br role=\"presentation\"/><span dir=\"ltr\" role=\"presentation\">А. Юсупов</span>\n",
      "<div class=\"endOfContent\"></div>\n",
      "</div>\n",
      "</div>\n",
      "</div><div class=\"cmsmasters_post_cont_info_top entry-meta\"></div><div class=\"cmsmasters_post_cont_info entry-meta\"> <div class=\"cmsmasters_icon_wrap\" id=\"cmsmasters_icon_icu8m60mo4\"><span class=\"cmsmasters_simple_icon cmsmasters-icon-eye-1\"></span>0</div>\n",
      "<span class=\"cmsmasters_simple_icon cmsmasters-icon-eye-1\"></span><span class=\"cmsmasters_post_date\">2023-12-20 12:14:30</span><div class=\"cmsmasters_post_cont_info_meta\"><span class=\"cmsmasters_post_author\">Автор <a class=\"vcard author\" href=\"https://hakikat.info/kat/author/hakikatadmin/\" title=\"Пост автора hakikatadmin\"><span class=\"fn\">hakikatadmin</span></a></span></div></div></div></div></article>\n",
      "<article class=\"cmsmasters_open_post post-56275 nationals type-nationals status-publish hentry kategories-tsiiyal-kharbal\" id=\"post-56275\">\n",
      "<header class=\"cmsmasters_post_header entry-header\"><h2 class=\"entry-title\">ВДНХаялда нилъер бечелъи</h2></header><div class=\"cmsmasters_post_content_wrap\"><div class=\"cmsmasters_post_content_inner\"><div class=\"cmsmasters_post_content entry-content\"><div class=\"react-pdf__Page PdfViewer__page--2mOsP\" data-page-number=\"1\">\n",
      "<div class=\"react-pdf__Page__textContent textLayer\"><span dir=\"ltr\" role=\"presentation\">Гьал къоязда Москваялда, ВДНХялда тIобитIулеб бугеб «Россия» халкъазда гьоркьосеб</span><br role=\"presentation\"/><span dir=\"ltr\" role=\"presentation\">выставка-форумалда гIахьаллъи гьабулеб буго Дагъистаналъул вакиллъиялъги. Гьениб,</span><br role=\"presentation\"/><span dir=\"ltr\" role=\"presentation\">анкьабилеб декабралда тIобитIана Дагъистаналъул къо. Тадбиралда гIахьаллъана ДРялъул</span><br role=\"presentation\"/><span dir=\"ltr\" role=\"presentation\">бетIер Сергей Меликовги х1укуматалъул цо-цо вакилзабиги. «Россия в миниатюре» абун</span><br role=\"presentation\"/><span dir=\"ltr\" role=\"presentation\">цIар лъуна гьес гьеб къоялъ ВДНХялда букIараб республикаялъул цебелъеялда. «Россия-</span><br role=\"presentation\"/><span dir=\"ltr\" role=\"presentation\">24» каналалъул хIалтIухъаналъе экскурсияги гьабуна Дагъистаналъул стендалда цеесан</span><br role=\"presentation\"/><span dir=\"ltr\" role=\"presentation\">свериги бахъулаго.</span><br role=\"presentation\"/><span dir=\"ltr\" role=\"presentation\">Выставкаялда бихьизабуна экономикаялъул, нухал раялъул, социалияб рахъалъул, лъай</span><br role=\"presentation\"/><span dir=\"ltr\" role=\"presentation\">кьеялъул, туризмалъул ва спорталъул рахъалъ республикаялъул ругел церетIеял.</span><br role=\"presentation\"/><span dir=\"ltr\" role=\"presentation\">Халкъазда гьоркьосеб выставкаялде рачIаразе рес букIана Расул ХIамзатовасул</span><br role=\"presentation\"/><span dir=\"ltr\" role=\"presentation\">творчествоялъулгун лъай-хъвай гьабизеги, Дагъистаналъул халкъазул батIи-батIияб</span><br role=\"presentation\"/><span dir=\"ltr\" role=\"presentation\">махщалил тIагIелал рихьизеги.</span><br role=\"presentation\"/><span dir=\"ltr\" role=\"presentation\">Дагъистаналъул выставка ВДНХялда бихьизабуна Дербенталъул НекIсияб хъалаялъул</span><br role=\"presentation\"/><span dir=\"ltr\" role=\"presentation\">сипат-сураталда.</span><br role=\"presentation\"/><span dir=\"ltr\" role=\"presentation\">ЦохIо Россиялъул регионаз гуребги батIи-батIиял компанияз ва жамгIиял идарабаз</span><br role=\"presentation\"/><span dir=\"ltr\" role=\"presentation\">гIахьаллъи гьабуна тадбиралда.</span><br role=\"presentation\"/><span dir=\"ltr\" role=\"presentation\">ВДНХялда бугеб выставка-форум халат бахъине буго т1адеялъул 12 апрелалде щвезег1ан.</span><br role=\"presentation\"/><span dir=\"ltr\" role=\"presentation\">Гьелъул х1акъалъулъ нижеца гIатIидго хъвазе буго газеталъул хадусел номеразда.</span><br role=\"presentation\"/><span dir=\"ltr\" role=\"presentation\">А. Юсупов</span>\n",
      "<div class=\"endOfContent\"></div>\n",
      "</div>\n",
      "</div>\n",
      "</div><div class=\"cmsmasters_post_cont_info_top entry-meta\"></div><div class=\"cmsmasters_post_cont_info entry-meta\"> <div class=\"cmsmasters_icon_wrap\" id=\"cmsmasters_icon_icu8m60mo4\"><span class=\"cmsmasters_simple_icon cmsmasters-icon-eye-1\"></span>0</div>\n",
      "<span class=\"cmsmasters_simple_icon cmsmasters-icon-eye-1\"></span><span class=\"cmsmasters_post_date\">2023-12-20 12:14:30</span><div class=\"cmsmasters_post_cont_info_meta\"><span class=\"cmsmasters_post_author\">Автор <a class=\"vcard author\" href=\"https://hakikat.info/kat/author/hakikatadmin/\" title=\"Пост автора hakikatadmin\"><span class=\"fn\">hakikatadmin</span></a></span></div></div></div></div></article>\n"
     ]
    }
   ],
   "source": [
    "for art in no_p_articles:\n",
    "    if not get_text(art):\n",
    "        print(art)"
   ]
  },
  {
   "cell_type": "code",
   "execution_count": 169,
   "id": "388aa8ed-bb3d-4aaa-ac05-33d79a796e15",
   "metadata": {},
   "outputs": [],
   "source": [
    "for art in articles:\n",
    "    art_array.append(get_text(art))\n",
    "    # if art.find('p'): p_articles.append(art)\n",
    "    # else: no_p_articles.append(art)\n",
    "    #     art_array.append(get_text(art))\n",
    "    # # print(type(art))\n",
    "    # else: print('ALARM')\n",
    "    "
   ]
  },
  {
   "cell_type": "code",
   "execution_count": 160,
   "id": "a05a559d-0671-4c05-b1e7-0b2ae7fb61b7",
   "metadata": {},
   "outputs": [
    {
     "data": {
      "text/plain": [
       "'\\nИстамбулалъул аэропорталда, рокъое йоржине заман щвезегIан балагьун чIарай дида аскIовеги вачIун, гIодов чIана батIияб пачалихъалъул вукIин бихьулев, берцинго ретIа-къарав бихьинчи.\\nДихъги валагьун, жиндирго мацIалда цо жо цIехолеб букIана гьес. «Ислам» абураб рагIиги такрарлъулеб букIана гьесул кIалъаялъулъ. Щибго бичIчIулеб гьечIин абун квераз ишанги гьабун, кIварго кьечIого тана дица гьев. Цинги жиндирго телефоналда, яндекс-таржама гьабулеб программаги рагьун, бичIчIизабуна гьес дида жиндирго мурад. Гьес жиндирго мацIалда хъвараб жо, дие гIурус мацIалда бачIунаан таржама гьабун. Гьедин ричIчIана ниж цоцазда. Гьев вугоан Франциялда гIумру гьабулев Италиялдаса, исламияб дин босарав Кристиан Вейчел. Гьес цIехолеб букIун буго дида, дун бусурманай гIадан йигищилан. Гьес бицана дие, жинца дин босиялъе ккараб сабабалъулги.\\nГьанжеялдаса лъабго соналъ цебе гьесул лъади авариялдеги ккун хун йиго. Нахъе хутIун буго лъабго сон бараб цо, жеги лъагIел бачIеб кIиабилеб лъимер.\\nГIодун чIолареб гьитIинаб лъимада щиб гьабилебали лъаларого вугев гьав, мадугьалихъ йигей лъимал гIемерай гIаданалъухъе ун вуго кумек гьарун. Гьей йикIанин бицана гьес Дагъистаналдаса бусурманай гIадан, апараглъиялде Франциялде ккарай. Амма гьесие бусурбаби киданиги рокьулел рукIун гьечIо. Эбел хун хутIарал жиндирго лъималазул ургъалилъ вугев гьесие, инкар гьабичIого, кумек гьабизе яхъарай гьей бусурманай мадугьалалъул гIаданлъиялъ къоял анагIан гIажаиблъизавунин живилан бицана гьес.\\nДица гьесда цIехана, щай дуе бусурбаби рихарал рукIаралин.\\n«Щаяли лъаларо, амма дие киданиги рокьулароан бусурбаби ва исламияб дин. Амма дун мекъи вукIун вуго, гьанже къойил щуябго какги бала дица. Квешлъиги лъиениги гьабуларо ва гьабизе ракIалдаги гьечIо. Дида исламияб дин бищун бацIцIадаблъун бихьана. ГьанжелъизегIан гьеб щайдай дида лъачIоян ракI бухIун букIуна дир. Дир гьудулзаби релъулел рукIунаан дида тIад, дун хIажатханаялъуве лъел шишаги босун унев вихьараб мехалъ. Дица бицана гьезие ислама-лъул бацIцIалъиялъул, хIажатханаялъубе лъим босиялъул магIнаялъул. Дагь-дагьккун гьезул гьурмадаса релъиги тIагIана, гIенеккунги чIун, цоцазухъги ралагьун, хIикмалъун хутIана. Гьелдаса хадуб, дир лъикIав гьалмагъасги босана ислам», — ин бицана Кристианица. Гьей Дагъистаналдаса бусурманай гIаданалъул хъизамалъул баракаталдалъун цо чанго чи бусурманлъунги вуго гьенив.\\nДица киса, щиб шагьаралдаса гьей гIаданалъул хъизамилан цIехедал, гьесда бицине лъачIо гьезул росу-ракь. Цого-цо гьесда лъалеб жо бугоан гьей «аварай» йикIин. БицанагIан бицине бокьулеб букIана Кристиание бусурбабазулги гьезул гIумруялъулги хIакъалъулъ. «Дица дирго лъималги гIезаризе руго бусурбабилъун. Руччабиги гьезие рачине руго, Аллагьас хъван батани, исламияб диналъул, щайгурелъул нижеразда данде ккун исламияб диналъул руччабаз росасе гьабулеб хъулухъ, адаб-хIурмат, къимат тIадегIанаб даражаялъул буго», — ян абуна гьес.\\n— Дуца исламалда рекъараб цIарги хисизе ккелаха, — ян дица абидал, гьелда тIадги жив ургъизе вугин абуна италиялъулас.\\nГьев батIияб пачалихъалъул бусурманлъарав чияс бицаралъ цIакъ асар гьабуна дие.\\nКир ругониги, лъикIаб мисалаздалъун исламалде гIадамал цIазе, Аллагь разияб гIамал гьабизе тавпикъ кьеги бусурбабазе.\\n'"
      ]
     },
     "execution_count": 160,
     "metadata": {},
     "output_type": "execute_result"
    }
   ],
   "source": [
    "no_p_text(no_p_articles[12])"
   ]
  },
  {
   "cell_type": "code",
   "execution_count": 58,
   "id": "dd1094d2-a524-46eb-a733-ce3ed34f03c3",
   "metadata": {},
   "outputs": [
    {
     "data": {
      "text/plain": [
       "10"
      ]
     },
     "execution_count": 58,
     "metadata": {},
     "output_type": "execute_result"
    }
   ],
   "source": [
    "[elem['href'] for elem in soup.find_all('a', href=True) if elem['href'].startswith('https://hakikat.info/?nationals=')]"
   ]
  },
  {
   "cell_type": "code",
   "execution_count": 26,
   "id": "484dc5f5-24db-4b61-bfac-b15c42b9cbdd",
   "metadata": {},
   "outputs": [],
   "source": [
    "text = soup.find_all('article')[0].find('p').text.replace('\\xad', '')"
   ]
  },
  {
   "cell_type": "code",
   "execution_count": 34,
   "id": "924df301-25b0-4da3-a1b2-097fe1b1ed68",
   "metadata": {},
   "outputs": [
    {
     "data": {
      "text/plain": [
       "['.Ц', '.М', '.М', '.М', '.М', '.Д', '.М', '.Ф', '.М', '.А', '.Т', '.Г', '.З']"
      ]
     },
     "execution_count": 34,
     "metadata": {},
     "output_type": "execute_result"
    }
   ],
   "source": [
    "re.findall(r'[\\.\\?\\!][А-Я]', text)"
   ]
  },
  {
   "cell_type": "code",
   "execution_count": 37,
   "id": "916542b0-3ff8-40e7-801e-77e5f1cbc11f",
   "metadata": {},
   "outputs": [],
   "source": [
    "copy_clipboard(text)"
   ]
  },
  {
   "cell_type": "code",
   "execution_count": 40,
   "id": "3316a3ec-bb9d-4c1f-9572-b8dcf5604cd7",
   "metadata": {},
   "outputs": [
    {
     "data": {
      "text/plain": [
       "'Гьелъ цIалун лъугIизабуна хъвадарухъабазда гьоркьоб тIоцебе Москваялда Горькил цIаралда бугеб литературияб институт. I956 соналдаса нахъе гьей йикIана Хъвадарухъабазул союзалъул член. ШагIир, драматург Машидатица хъвана гIемерал пьесаби – «ТалихIаб къо», «Вехьасул яс», «Бертадул къоялъ», «БахIаралъул хъахIаб шал», «Рокьиги хъизамги», «Дун вацазул яц» ва гь.ц. Гьел пьесаби Авар театралъ сценаялдасан рихьизарула халкъалда. Рахъана кучIдузул гIемерал тIахьал. «РакIалъ цIагIолеб буго» абураб тIехьалъе кьуна С. Стальскиясул премия. ХIалтIана магIарул театралъул директорлъун, «МагIарулай», «Гьудуллъи» журналазул редакторлъун. Дида тIоцее Машидат йихьана дун институталда цIалулей йигеб мехалъ МухIамад Сулимановасул рокъой.\\nЦо къоялъ МухIамад вачIана рокъове кIиго чIужугIаданги ячун. Цояй йикIана дагьаб ригь арай, цIакъ берцинго умумузул къагIидаялъ ретIа-къарай гIадан. Гьелда тIад чIван букIана цIакъ берцинго симис бараб сурмияб кIаз, ретIун букIана канчIсурмияб кьералъул шалил гурде. РекIелъе бортулеб хIалимаб гьимиялъ гвангъизабун букIана гургинаб гьумер. Берал рукIана берцинал пашманлъиялъул гугьар бугел. КIалъай букIана хIеренаб, гIодобе биччараб. Цадахъ йикIана гьелда Бахумеседоги, Машидатил гьитIинай яц. МухIамадица абуна жинди жакъа Машидатил эбелги яцги рихьанилан.\\nЛъабго къо бачIого, риччачIо МухIамадица гьалбал рокъоре. Гьес Машидат яцлъун рикIкIунаан. ЦIакъ хIурмат гьабулаан гьес Машидатил, рикIкIунаан бахIарчияб гIамалалъул, чIара-хьарай, хасияталъулъ щибго тIокIлъи гьечIей гIаданлъун.\\nГьелдаса нахъе гIемерал сонал ана, нижер хинаб гьоркьоблъи киданиги хвечIо. Гьей йикIана дир мугIалимлъунги гIакълучIужулъунги.\\nМашидат гьаюна гIемерал гIалимзаби, бахIарзал рахъараб ГIахьвахъ районалъул КIаратIа росулъ, наибзабазул тухумалъул хъизаналда. Чанги захIмат бихьанин жидер хъизаналда-йилан бицунаан Машидатица. Гьей жеги гьитIинаб мехалъ, наибзабазул чий-илан эмен жанив тIамуна ва араб бакI лъачIого тIагIинавуна. Эбел Загъаласул ПатIимат йикIана Шамил имамасул наиб Тавуш МахIамадил васасул яс.\\nМашидатица хъвана Дагъистаналъул бусурбабазе цIакъ пайдаял тIахьал. Гьезул тIоцебесеб ккола «Шамил имам». Шамилил хIакъалъулъ асар хъвазе Машидатица хъирщана чанги тарихиял лъугьа-бахъиназул гъатал. Киналдего гъорлъе яккун лъугIараб мехалъ хъвана гьелъ жиндирго асар. Гьеб тIехь гIуцIун буго 74 поэмаялдасан, гьелда жанибе бачун буго лъимерлъиялдасан, умумуздасан байбихьун, киналго лъугьа-бахъинал, рагъазул биценал, бахIарзазул гьунарал. Гьенир ратула цере нилъедаса рахчун рукIарал, Кавказалъул рагъуе рукIарал гIиллаби, нилъер халкъалда гьабулеб букIараб зулму-хIал.\\nМашидатица гIадин рагIа-ракьанде щун гъваридго жание яккун, цониги хъвадарухъанас рагьичIо Шамилил сипат. Цевехъан, гIалимчи, гIадан хIисабалдаги гьев анкьабго рахъалъ рагьизе ккун вуго авторалда. Хадусеб тIехь «Черкесазул имам шайих МахIамад Амин» буго цIакъ гIемер хIалтIи тIад гьабураб тIехь. Машидатица дида бицана жийго Черкесиялде гьесул тарих цIехезе иналъул, гьениса къваригIараб материалги бакIарун тIадюссиналъул хIакъалъулъ.\\nМахIамад Аминил сипатги буго Шамилилго гIадаб гъваридаб, киналго гIумруялъул рахъал, гIамал-хасият, рухIияб бечелъи жанибе бачараб. Лъабго бутIаялдаса гIуцIараб, бицатаб, кIудияб асар буго гьеб. МагIарул росулъ гьавурав, гIурав, гIелму щварав МахIамад Аминида кIолеб буго щущан рукIарал черкесазул халкъги цолъизабун, гьениб пачалихъ гIуцIизе. ТIехь цIалулезда гьениб батула гъазават байбихьиялъе ккарал гIиллаби, гьелъул байбихьи имамзабазул гьеб къеркьеялъулъ букIараб хIаракат.\\nМашидат йикIана кIудияб гIакълуялъул, гъваридаб лъаялъул гIадан. Гьелда кIолаан бокьараб лъугьа-бахъиналъул гъваридаб анализ гьабизе. Цин асар хъвалалде гьелъ цIалун лъазабулаан тарихияб ритIухълъи.\\nДун гьелъухъе моцIрол ахирияб рузман къоялъ зияраталъе кидаго щолаан, нагагь ине щвечIони, кIалъалаан. Цо-цо мехалъ гьей ятулаан цебе букъарулеб машинаги лъун, садакъаде рикьизе жал рукъулей (какие хIажатал жал, гIурччинал байрахъал, халгIат). Киданиги аскIоб си гьабун лъун рукIунаан садакъаде кьезе какикь тIамулел жал. Машидат йикIана мисал босизе мустахIикъай магIарулай. РагIулароан щивго какулей, лъилниги хIакъалъулъ хабар цIехолей, нахъасан кIалъалей. Я хъвадарилей, я юкъарулей, яги чIумал рехулей йикIунаан гьей кидаго.\\nМашидатилъ киданиги, гIолохъанаб мехалъги, бихьичIо гIанчIлъи, гогьлъи, ратIлие ва месед-гIарацалъе лагълъи гьаби. Сундулъго букIана цокIалаб гIадатлъи, берцинаб гIамал, узданлъи.\\nФазу литератураялде «пирхараб пири» гIадин ячIарай ятани, Машидат ячIана пахруяб таваккалгун, чIванкъотIараб пикругун, магIарул гIадатазул хаслъигун. Фазул буго цIакъ бечедаб, гъваридаб, батIи-батIиял бакъназ, кьераз хъвараб поэзия. Машидатил буго шавкъ дагьаб ургъелги, бухIиги, магIуги жаниб гьарзаяб тарихалъул лъалкIаз мугьручIвараб поэзия.\\nМашидатица инкар гьабуна «Халкъияй поэт» илан абураб цIаралъе. Гьелъ абуна гьанже жиндие гьеб хабалъе босизейищила хIажат бугеб? Цересел кIицIулго тIагIинарунила жиндир документал. Кагътида халкъияйлъун яхъинчIониги, гьей йиго унго-унгояй халкъияй шагьир. Гьелда лъачIо лъиениги хIелизе, досда гьарун, гьасда гьарун цIар балагьизе, гIарац балагьизе. Гьелъие гьеб хIажат букIинчIо. Гьей йикIана жиндирго хIурмат гьабизе лъалей, къадруялда хIур хъвазе толарей, борхун бетIер ккурай магIарул чIужугIадан.\\nАхирал соназ гьелъул бадиса канлъи ун букIана, бажарулеб букIинчIо машинкаялда хIалтIун. Гьелъие кIудияб кумек гьабуна Калиматица, гьелъул гIагарай ясалъ.\\nМашидатил нуцIа кидаго рагьун букIунаан. Гьелъул адаб гьабун гьелде швезе рачIунаан гIалимзабиги, учительзабиги, лъималги. Гьелде щвезе мех-мехалда рачIунаан баракат щваяв ЧIикIаса КIудиявги гьесул лъади Узлипатги. Машидат йикIана устарасул мюрид. Устарас гьелъул цIарги хисун букIана СагIидат – абун. КIудияс борхана гьелъул хIеж. Гьелдаса кIудияб талихI щиб? Бокьарав чиясе щолеб жо гуро гьеб.\\nАхираб нухалъ щвараб мехалъ дида нуцIа рахан батана. Кидаго рахалареб нуцIа рахан батизе дие бокьичIо. Гьей жаний йикIин лъана. Цинги хIалица квералги чIван, ячIун гьелъ нуцIа ричIана.\\n— Чиясда кIалъазе кIолеб хIалги гьечIого рахана нуцIа, – ян абуна гьелъ.\\nТохтур ахIилищ? АскIов чи гьечIого бегьиларо, — ян абуна дица.\\n— Дида аскIов Аллагь вуго, — ан абуна Машидатица. Лъидего кIалъазе изнуги кьечIо. Гьелъие бокьун гьечIоан унтараб мехалъги лъидего ккезе. ЦIакъ къвакIараб хасият букIана гьелъул.\\nГьелда жиндирго рагIад кIодолъун бихьулароан. КIудиял тIалабал жиндехунго лъилниги тIалаб гьабулароан. Амма цIакъ йоххун йикIунаан Калиматидаса ва росдал администрациялъулги жигаралдалъун гьабулеб бугеб музеялдаса. Гьелдаса хадуб лъабго къоялдасан нилъедаса ятIалъана. Унго-унгояй миллат чIухIизе бегьулей, гIахьвалазул къадрулъун, чIухIилъун йикIине мустахIикъай, унго-унгояй бусурманчIужу, борхун ккураб бетIер Аллагьасе гурони къуличIей, Машидат.\\nЗалму Батирова'"
      ]
     },
     "execution_count": 40,
     "metadata": {},
     "output_type": "execute_result"
    }
   ],
   "source": [
    "soup.find_all('article')[0].find('p').get_text(separator = '\\n', strip = True).replace('\\xad', '')"
   ]
  }
 ],
 "metadata": {
  "kernelspec": {
   "display_name": "Python 3 (ipykernel)",
   "language": "python",
   "name": "python3"
  },
  "language_info": {
   "codemirror_mode": {
    "name": "ipython",
    "version": 3
   },
   "file_extension": ".py",
   "mimetype": "text/x-python",
   "name": "python",
   "nbconvert_exporter": "python",
   "pygments_lexer": "ipython3",
   "version": "3.10.10"
  }
 },
 "nbformat": 4,
 "nbformat_minor": 5
}
