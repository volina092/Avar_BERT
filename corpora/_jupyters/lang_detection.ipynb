{
 "cells": [
  {
   "cell_type": "code",
   "execution_count": 1,
   "id": "3a24bcf0-e6b0-406f-bb26-d9cbc569ba89",
   "metadata": {},
   "outputs": [],
   "source": [
    "from lingua import Language, LanguageDetectorBuilder\n",
    "from langdetect import detect_langs\n",
    "import numpy as np"
   ]
  },
  {
   "cell_type": "code",
   "execution_count": 4,
   "id": "740b2817-f000-41cd-8d18-4df9b5af2593",
   "metadata": {},
   "outputs": [],
   "source": [
    "detector = LanguageDetectorBuilder.from_all_languages_with_cyrillic_script().build()\n",
    "# sentence = 'Райбольницаялъул бетIрав тохтур Хейруланам Дибирасулаевасул рагIабазда рекъон райбольницаялда прививкаби гьаризе гIуцIун руго киналниги шартIал, вакцинаби цIунун руго холодильниказда, прививка гьабилелде цебе хал гьабулеб буго гьеб гьабизе вачIарасул сахлъиялъул.'\n",
    "# # sentence = 'Бюджет администрации сельского поселения «сельсовет Хуштадинский» на 2021 год и плановый период 2022-2023 г.г'\n",
    "# result = detector.detect_language_of(sentence)\n",
    "# result\n",
    "# # print(f\"{result.language.name}: '{sentence[result.start_index:result.end_index]}'\")\n",
    "# print(detector.compute_language_confidence(sentence, Language.RUSSIAN) < 0.01)\n",
    "    "
   ]
  },
  {
   "cell_type": "code",
   "execution_count": 5,
   "id": "312006a4-f126-4363-ac58-d2d228632585",
   "metadata": {},
   "outputs": [],
   "source": [
    "def langdetect_ru_conf(line):\n",
    "    guesses = {guess.lang: guess.prob for guess in detect_langs(line)}\n",
    "    if not 'ru' in guesses: guesses['ru'] = 0\n",
    "    return np.round(guesses['ru'], 3)\n",
    "def lingua_ru_conf(line):\n",
    "    detector.compute_language_confidence(line, Language.RUSSIAN)\n",
    "    if dtctr_ru_conf < 0.01: dtctr_ru_conf = 0.01\n",
    "    return np.round(dtctr_ru_conf, 4)"
   ]
  },
  {
   "cell_type": "code",
   "execution_count": 6,
   "id": "56ac0161-4e36-4bf0-b423-c318409df811",
   "metadata": {},
   "outputs": [],
   "source": [
    "# for line in concated_lines:\n",
    "#     ld_ru_conf = langdetect_ru_conf(line)\n",
    "#     dtctr_ru_conf = lingua_ru_conf(line)\n",
    "#     if (ld_ru_conf > 0.8 and dtctr_ru_conf > 0.8): print(line[:50])"
   ]
  }
 ],
 "metadata": {
  "kernelspec": {
   "display_name": "Python 3 (ipykernel)",
   "language": "python",
   "name": "python3"
  },
  "language_info": {
   "codemirror_mode": {
    "name": "ipython",
    "version": 3
   },
   "file_extension": ".py",
   "mimetype": "text/x-python",
   "name": "python",
   "nbconvert_exporter": "python",
   "pygments_lexer": "ipython3",
   "version": "3.10.10"
  }
 },
 "nbformat": 4,
 "nbformat_minor": 5
}
