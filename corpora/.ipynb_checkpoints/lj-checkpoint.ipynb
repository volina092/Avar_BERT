{
 "cells": [
  {
   "cell_type": "code",
   "execution_count": 16,
   "id": "a0e3e443-c8e4-4654-ac65-caa88f73f89c",
   "metadata": {},
   "outputs": [],
   "source": [
    "import requests\n",
    "from bs4 import BeautifulSoup as bs\n",
    "import re\n",
    "import json\n",
    "import time"
   ]
  },
  {
   "cell_type": "code",
   "execution_count": 17,
   "id": "03fb8431-360e-42af-8579-f3d99f4f1458",
   "metadata": {},
   "outputs": [],
   "source": [
    "def get_posts_links(username, skip):\n",
    "    links = set()\n",
    "    soup = bs(requests.get(f'https://{username}.livejournal.com/?skip={i}').text, 'html.parser')\n",
    "    for link in soup.find_all('a'):\n",
    "        href = link.get('href')\n",
    "        if href:\n",
    "            match = re.match(r'https:\\/\\/' + username + r'\\.livejournal\\.com\\/\\d*\\.html', href)\n",
    "            if match and match[0] == href:\n",
    "                links.add(href)\n",
    "    return links\n",
    "# get_posts_links('https://.livejournal.com/') # например для первой страницы"
   ]
  },
  {
   "cell_type": "code",
   "execution_count": 47,
   "id": "cc24ad61-554e-4d8c-8d6d-8df4fd2d917a",
   "metadata": {},
   "outputs": [],
   "source": [
    "def get_text_of_post(link):\n",
    "    soup = bs(requests.get(link).text, 'html.parser')\n",
    "    # print(soup)\n",
    "    # soup.find('div', class_='asset-body').get_text()[6:]\n",
    "    # print(soup.find('div', class_='entry-content').get_text())\n",
    "    res = soup.find('div', class_='entry-content').get_text()\n",
    "    res = res.replace('\\ufeff', ' ').replace(' ', ' ')\n",
    "    res = ' '.join(res.split(' '))\n",
    "    return res[:res.find(\"Tags:\")]"
   ]
  },
  {
   "cell_type": "code",
   "execution_count": 48,
   "id": "ccfd1f53-0df0-45fe-9b9f-61a079126df8",
   "metadata": {},
   "outputs": [],
   "source": [
    "posts = set()\n",
    "for i in range(0, 20, 10): # можно вызять и больше, гдавное, чтобы число делилось на 10 (ну и чтобы в блоге вообще столько было)\n",
    "    posts = posts | get_posts_links('saigidali', i)\n",
    "    time.sleep(0.2)"
   ]
  },
  {
   "cell_type": "code",
   "execution_count": 49,
   "id": "97263af3-8bc3-4ef0-b81e-4f37c1cea049",
   "metadata": {
    "editable": true,
    "slideshow": {
     "slide_type": ""
    },
    "tags": []
   },
   "outputs": [
    {
     "data": {
      "text/plain": [
       "{'https://avarblog.livejournal.com/1508.html',\n",
       " 'https://avarblog.livejournal.com/1745.html',\n",
       " 'https://avarblog.livejournal.com/2004.html',\n",
       " 'https://avarblog.livejournal.com/2179.html',\n",
       " 'https://avarblog.livejournal.com/2350.html',\n",
       " 'https://avarblog.livejournal.com/2655.html',\n",
       " 'https://avarblog.livejournal.com/3019.html',\n",
       " 'https://avarblog.livejournal.com/3104.html',\n",
       " 'https://avarblog.livejournal.com/3390.html',\n",
       " 'https://avarblog.livejournal.com/3748.html',\n",
       " 'https://avarblog.livejournal.com/3889.html',\n",
       " 'https://avarblog.livejournal.com/4134.html',\n",
       " 'https://avarblog.livejournal.com/5337.html',\n",
       " 'https://avarblog.livejournal.com/5428.html',\n",
       " 'https://avarblog.livejournal.com/5659.html',\n",
       " 'https://avarblog.livejournal.com/5941.html',\n",
       " 'https://avarblog.livejournal.com/6448.html',\n",
       " 'https://avarblog.livejournal.com/6746.html',\n",
       " 'https://avarblog.livejournal.com/6993.html',\n",
       " 'https://avarblog.livejournal.com/7185.html'}"
      ]
     },
     "execution_count": 49,
     "metadata": {},
     "output_type": "execute_result"
    }
   ],
   "source": [
    "posts"
   ]
  },
  {
   "cell_type": "code",
   "execution_count": 52,
   "id": "f29283e4-e4b4-4882-9029-371a2d2ff509",
   "metadata": {
    "scrolled": true
   },
   "outputs": [],
   "source": [
    "posts_text = []\n",
    "for post_link in posts:\n",
    "    if post_link: posts_text.append(get_text_of_post(post_link))"
   ]
  },
  {
   "cell_type": "code",
   "execution_count": 53,
   "id": "0efb2ae4-b2e7-4052-952d-108526c5f61e",
   "metadata": {},
   "outputs": [],
   "source": [
    "json_dict = {'texts': [posts_text]}"
   ]
  },
  {
   "cell_type": "code",
   "execution_count": 54,
   "id": "9a6d7f01-115d-4171-b503-d97c10212bcd",
   "metadata": {},
   "outputs": [],
   "source": [
    "with open('avarblog_lj.json', 'w', encoding='utf-8') as outfile:\n",
    "    json.dump(json_dict, outfile, ensure_ascii=False)"
   ]
  }
 ],
 "metadata": {
  "kernelspec": {
   "display_name": "Python 3 (ipykernel)",
   "language": "python",
   "name": "python3"
  },
  "language_info": {
   "codemirror_mode": {
    "name": "ipython",
    "version": 3
   },
   "file_extension": ".py",
   "mimetype": "text/x-python",
   "name": "python",
   "nbconvert_exporter": "python",
   "pygments_lexer": "ipython3",
   "version": "3.10.10"
  }
 },
 "nbformat": 4,
 "nbformat_minor": 5
}
