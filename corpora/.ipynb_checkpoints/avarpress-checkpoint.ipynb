{
 "cells": [
  {
   "cell_type": "code",
   "execution_count": 63,
   "id": "2b3cfd6e-e2bc-410f-b72d-8ef409706409",
   "metadata": {
    "editable": true,
    "slideshow": {
     "slide_type": ""
    },
    "tags": []
   },
   "outputs": [],
   "source": [
    "import requests\n",
    "from bs4 import BeautifulSoup as bs\n",
    "import re\n",
    "import json\n",
    "import time\n",
    "from tqdm import tqdm"
   ]
  },
  {
   "cell_type": "markdown",
   "id": "56fd2ac0-f91d-4e7c-93bd-1b4cd7afaf20",
   "metadata": {},
   "source": [
    "#### Тест формата"
   ]
  },
  {
   "cell_type": "code",
   "execution_count": 51,
   "id": "dc87a4af-7aac-44dc-9fe7-a505302e70aa",
   "metadata": {
    "editable": true,
    "slideshow": {
     "slide_type": ""
    },
    "tags": []
   },
   "outputs": [],
   "source": [
    "\n",
    "res = []\n",
    "req = requests.get('http://avarpressa.ru/siyasat/324-magiarul-gioraz-koleb-kanli-kib-bugeb.html')\n",
    "soup = bs(req.text, 'html.parser')\n",
    "for p in soup.find_all('p'):\n",
    "    if not p.find('a'):\n",
    "        if p.find('span', {'class': 'autorlink'}): break\n",
    "        t = p.getText().replace('\\xa0', '').strip('-').strip()\n",
    "        if t: res.append(t)"
   ]
  },
  {
   "cell_type": "code",
   "execution_count": 91,
   "id": "8ef46c96-972d-42e9-ab33-142a3b546ad3",
   "metadata": {},
   "outputs": [
    {
     "data": {
      "text/plain": [
       "False"
      ]
     },
     "execution_count": 91,
     "metadata": {},
     "output_type": "execute_result"
    }
   ],
   "source": [
    "bs(requests.get('http://avarpressa.ru/blogs/page/2/').text, 'html.parser') == bs(requests.get('http://avarpressa.ru/blogs/page/1/').text, 'html.parser')"
   ]
  },
  {
   "cell_type": "code",
   "execution_count": 129,
   "id": "a42b4c42-758a-48e6-a9c7-0d81db37f6b7",
   "metadata": {
    "editable": true,
    "slideshow": {
     "slide_type": ""
    },
    "tags": []
   },
   "outputs": [],
   "source": [
    "def get_texts(set_links):\n",
    "    links = list(set_links)\n",
    "    res = []\n",
    "    for i in tqdm(range(len(links))):\n",
    "        soup = bs(requests.get(links[i]).text, 'html.parser')\n",
    "        for p in soup.find_all('p'):\n",
    "            if not p.find('a'):\n",
    "                if p.find('span', {'class': 'autorlink'}): break\n",
    "                t = p.getText().replace('\\xa0', '').strip('-').strip()\n",
    "                if t: res.append(t)\n",
    "    return res"
   ]
  },
  {
   "cell_type": "code",
   "execution_count": 132,
   "id": "ce49d8cf-1f89-457e-aeec-ca0fe7d35052",
   "metadata": {
    "editable": true,
    "slideshow": {
     "slide_type": ""
    },
    "tags": []
   },
   "outputs": [],
   "source": [
    "all_avarpressa = set()"
   ]
  },
  {
   "cell_type": "code",
   "execution_count": 167,
   "id": "49baa85b-c376-44a4-b365-ec11b3db7817",
   "metadata": {
    "editable": true,
    "slideshow": {
     "slide_type": ""
    },
    "tags": []
   },
   "outputs": [],
   "source": [
    "def section_processing(title, pages_num, prev_links):\n",
    "    section_set = set()\n",
    "    for i in range(pages_num):\n",
    "        print(title, str(i) + '...')\n",
    "        soup = bs(requests.get(f'http://avarpressa.ru/{title}/page/' + str(i + 1) + '/').text, 'html.parser')\n",
    "        for h2 in soup.find_all('h2'):\n",
    "            section_set.add(h2.find('a').get('href'))\n",
    "    section_set.difference_update(prev_links)\n",
    "    res = get_texts(section_set)\n",
    "    return {'result': res, 'set': section_set}"
   ]
  },
  {
   "cell_type": "markdown",
   "id": "172d409d-c974-457f-9bdb-7756b0dfeea4",
   "metadata": {},
   "source": [
    "#### Итерация"
   ]
  },
  {
   "cell_type": "code",
   "execution_count": 239,
   "id": "93b0c86c-4ffe-49ad-9e0b-8e33fed7309e",
   "metadata": {
    "editable": true,
    "slideshow": {
     "slide_type": ""
    },
    "tags": []
   },
   "outputs": [],
   "source": [
    "with open('LINKS_avarpressa.json', 'w', encoding='utf-8') as outfile:\n",
    "    json.dump({'links': list(all_avarpressa)}, outfile, ensure_ascii=False)"
   ]
  },
  {
   "cell_type": "code",
   "execution_count": 234,
   "id": "59cad06d-d54c-4bef-aa6a-f4914210b4e6",
   "metadata": {},
   "outputs": [],
   "source": [
    "section_title = 'photogallery'"
   ]
  },
  {
   "cell_type": "code",
   "execution_count": 235,
   "id": "03eebbf7-fa9f-42c1-ac7a-139673472d2b",
   "metadata": {
    "editable": true,
    "slideshow": {
     "slide_type": ""
    },
    "tags": []
   },
   "outputs": [
    {
     "name": "stdout",
     "output_type": "stream",
     "text": [
      "blogs 0...\n",
      "blogs 1...\n",
      "blogs 2...\n",
      "blogs 3...\n",
      "blogs 4...\n"
     ]
    },
    {
     "name": "stderr",
     "output_type": "stream",
     "text": [
      "100%|██████████████████████████████████████████████████████████████████████████████████| 12/12 [00:04<00:00,  2.79it/s]\n"
     ]
    }
   ],
   "source": [
    "section = section_processing(section_title, 5, all_avarpressa)"
   ]
  },
  {
   "cell_type": "code",
   "execution_count": 236,
   "id": "cbcea0d1-82af-4b4e-8886-d886eb1565a1",
   "metadata": {
    "editable": true,
    "slideshow": {
     "slide_type": ""
    },
    "tags": []
   },
   "outputs": [],
   "source": [
    "with open('avarpress_' + section_title + '.json', 'w', encoding='utf-8') as outfile:\n",
    "    json.dump({'texts': section['result']}, outfile, ensure_ascii=False)"
   ]
  },
  {
   "cell_type": "code",
   "execution_count": 237,
   "id": "628774c0-1d5a-44fd-a878-40c3388f28b2",
   "metadata": {},
   "outputs": [],
   "source": [
    "all_avarpressa.update(section['set'])"
   ]
  },
  {
   "cell_type": "code",
   "execution_count": 238,
   "id": "8901c3af-1558-44ba-81fd-7eb31498b384",
   "metadata": {
    "editable": true,
    "slideshow": {
     "slide_type": ""
    },
    "tags": []
   },
   "outputs": [
    {
     "data": {
      "text/plain": [
       "606"
      ]
     },
     "execution_count": 238,
     "metadata": {},
     "output_type": "execute_result"
    }
   ],
   "source": [
    "len(all_avarpressa)"
   ]
  }
 ],
 "metadata": {
  "kernelspec": {
   "display_name": "Python 3 (ipykernel)",
   "language": "python",
   "name": "python3"
  },
  "language_info": {
   "codemirror_mode": {
    "name": "ipython",
    "version": 3
   },
   "file_extension": ".py",
   "mimetype": "text/x-python",
   "name": "python",
   "nbconvert_exporter": "python",
   "pygments_lexer": "ipython3",
   "version": "3.10.10"
  }
 },
 "nbformat": 4,
 "nbformat_minor": 5
}
