{
 "cells": [
  {
   "cell_type": "code",
   "execution_count": 1,
   "id": "2f4551d9-8529-4bbb-82c5-516eae8a3c36",
   "metadata": {},
   "outputs": [],
   "source": [
    "import requests\n",
    "from bs4 import BeautifulSoup as bs\n",
    "import re\n",
    "import json\n",
    "import time"
   ]
  },
  {
   "cell_type": "code",
   "execution_count": 3,
   "id": "c5e15a92-6fbb-4a16-9f9d-1600dca82dbe",
   "metadata": {},
   "outputs": [],
   "source": [
    "def get_page_text(url):\n",
    "    req = requests.get(url)\n",
    "    req.encoding = 'windows-1251'\n",
    "    soup = bs(req.text, 'html.parser')\n",
    "    return [p.getText() for p in soup.find_all('p')]"
   ]
  },
  {
   "cell_type": "code",
   "execution_count": 18,
   "id": "1ab22e77-0a03-41c0-841c-20907d41b850",
   "metadata": {},
   "outputs": [],
   "source": [
    "def get_links(general_url_beginning, page_from):\n",
    "    links = set()\n",
    "    soup = bs(requests.get(general_url_beginning + page_from).text, 'html.parser')\n",
    "    for link in soup.find_all('a'):\n",
    "        href = link.get('href')\n",
    "        if href:\n",
    "            match = re.match(r'p\\d*aa.\\.html', href)\n",
    "            if match and match[0] == href:\n",
    "                links.add(general_url_beginning + href)\n",
    "    return links"
   ]
  },
  {
   "cell_type": "code",
   "execution_count": 19,
   "id": "45618e52-8074-4a71-be2f-0b22808c559a",
   "metadata": {},
   "outputs": [],
   "source": [
    "url_beginning = f'https://eor.dgu.ru/lectures_f/%D1%8D%D0%BB%D0%B5%D1%82%D0%BA%D1%80%D0%BE%D0%BD%D0%BD%D1%8B%D0%B5%20%D0%BB%D0%B5%D0%BA%D1%86%D0%B8%D0%B8%20%D0%9C%D0%B0%D0%B3%D0%BE%D0%BC%D0%B5%D0%B4%D0%BE%D0%B2%D0%B0%20%D0%A0.%D0%9C/project/'\n",
    "\n",
    "content_page = f'p2aa1.html'"
   ]
  },
  {
   "cell_type": "code",
   "execution_count": 20,
   "id": "ec30a209-025a-4367-bd15-c8bff63bc5bb",
   "metadata": {},
   "outputs": [],
   "source": [
    "links = get_links(url_beginning, content_page)"
   ]
  },
  {
   "cell_type": "code",
   "execution_count": 21,
   "id": "f509e34b-a478-49d8-9177-06a16392e683",
   "metadata": {},
   "outputs": [],
   "source": [
    "json_dict = {'texts':[]}\n",
    "for link in links:\n",
    "    json_dict['texts'] = get_page_text(link)"
   ]
  },
  {
   "cell_type": "code",
   "execution_count": 22,
   "id": "f7459673-7289-4337-bb77-d89f2f1c341a",
   "metadata": {},
   "outputs": [],
   "source": [
    "with open('magomedova_avar_lit_lectures.json', 'w') as outfile:\n",
    "    json.dump(json_dict, outfile)"
   ]
  }
 ],
 "metadata": {
  "kernelspec": {
   "display_name": "Python 3 (ipykernel)",
   "language": "python",
   "name": "python3"
  },
  "language_info": {
   "codemirror_mode": {
    "name": "ipython",
    "version": 3
   },
   "file_extension": ".py",
   "mimetype": "text/x-python",
   "name": "python",
   "nbconvert_exporter": "python",
   "pygments_lexer": "ipython3",
   "version": "3.10.10"
  }
 },
 "nbformat": 4,
 "nbformat_minor": 5
}
