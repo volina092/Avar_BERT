{
 "cells": [
  {
   "cell_type": "code",
   "execution_count": null,
   "id": "922f2927-a39e-4f30-b3f0-f6b479fadcfc",
   "metadata": {},
   "outputs": [],
   "source": [
    "import fasttext\n",
    "from huggingface_hub import hf_hub_download\n",
    "from lingua import Language, LanguageDetectorBuilder\n",
    "from langdetect import detect_langs\n",
    "import numpy as np"
   ]
  },
  {
   "cell_type": "code",
   "execution_count": null,
   "id": "f630b896-0e14-4261-bbb1-c65b16091b08",
   "metadata": {},
   "outputs": [],
   "source": [
    "detector = LanguageDetectorBuilder.from_all_languages_with_cyrillic_script().build()\n",
    "ft_model_path = hf_hub_download(repo_id=\"facebook/fasttext-language-identification\", filename=\"model.bin\")\n",
    "ft_model = fasttext.load_model(ft_model_path)"
   ]
  },
  {
   "cell_type": "code",
   "execution_count": null,
   "id": "ab7f09b8-1764-4c59-bb98-8632f5950f68",
   "metadata": {},
   "outputs": [],
   "source": [
    "def langdetect_ru_conf(line):\n",
    "    guesses = {guess.lang: guess.prob for guess in detect_langs(line)}\n",
    "    if not 'ru' in guesses: guesses['ru'] = 0\n",
    "    return np.round(guesses['ru'], 4)\n",
    "def lingua_ru_conf(line):\n",
    "    dtctr_ru_conf = detector.compute_language_confidence(line, Language.RUSSIAN)\n",
    "    if dtctr_ru_conf < 0.01: dtctr_ru_conf = 0.01\n",
    "    return np.round(dtctr_ru_conf, 4)\n",
    "def fasttext_ru_conf(line):\n",
    "    predict_langs, predict_confidence = ft_model.predict(line, k=3)\n",
    "    if '__label__rus_Cyrl' in predict_langs: return np.round(predict_confidence[predict_langs.index('__label__rus_Cyrl')], 4)\n",
    "    return 0"
   ]
  },
  {
   "cell_type": "code",
   "execution_count": null,
   "id": "eea604fd-8431-4cd7-8697-cf295926a76a",
   "metadata": {},
   "outputs": [],
   "source": [
    "def isRusLangText(text):\n",
    "    langdetect_c, lingua_c, fasttext_c = langdetect_ru_conf(text), lingua_ru_conf(text), fasttext_ru_conf(text)\n",
    "    return (langdetect_c >= 0.87 and lingua_c >= 0.87) or fasttext_c > 0.7"
   ]
  },
  {
   "cell_type": "code",
   "execution_count": null,
   "id": "de35c4ad-f657-4773-b418-4b4a119b0412",
   "metadata": {},
   "outputs": [],
   "source": [
    "# isRusLangText(input()) # тест"
   ]
  }
 ],
 "metadata": {
  "kernelspec": {
   "display_name": "Python 3 (ipykernel)",
   "language": "python",
   "name": "python3"
  },
  "language_info": {
   "codemirror_mode": {
    "name": "ipython",
    "version": 3
   },
   "file_extension": ".py",
   "mimetype": "text/x-python",
   "name": "python",
   "nbconvert_exporter": "python",
   "pygments_lexer": "ipython3",
   "version": "3.10.10"
  }
 },
 "nbformat": 4,
 "nbformat_minor": 5
}
