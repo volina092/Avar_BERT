{
 "cells": [
  {
   "cell_type": "code",
   "execution_count": 44,
   "id": "795c638f-05bc-497d-8c6f-ec5dce47fefd",
   "metadata": {},
   "outputs": [],
   "source": [
    "from tokenizers import ByteLevelBPETokenizer\n",
    "from transformers import RobertaTokenizer\n",
    "import os"
   ]
  },
  {
   "cell_type": "code",
   "execution_count": 45,
   "id": "1433feb4-31e2-4e07-bb98-15d17dfc5e68",
   "metadata": {},
   "outputs": [],
   "source": [
    "tokenizer = ByteLevelBPETokenizer()"
   ]
  },
  {
   "cell_type": "code",
   "execution_count": 46,
   "id": "ac56b822-5672-45d1-a2f8-1b193102f8aa",
   "metadata": {},
   "outputs": [],
   "source": [
    "path = r'C:\\m092\\avar_bert\\raw_corpora'\n",
    "paths = [path + '\\\\' + fn for fn in os.listdir(path)]"
   ]
  },
  {
   "cell_type": "code",
   "execution_count": 47,
   "id": "acc42940-4c97-49d4-b7f0-c2c3b183e700",
   "metadata": {},
   "outputs": [],
   "source": [
    "tokenizer.train(files = paths, vocab_size = 50265, min_frequency = 2,\n",
    "                special_tokens=['<s>', '<pad>', '</s>', '<unk>', '<mask>'])"
   ]
  },
  {
   "cell_type": "code",
   "execution_count": 48,
   "id": "5d2478bb-3103-4532-bb76-3d8dd3b02a8b",
   "metadata": {},
   "outputs": [
    {
     "data": {
      "text/plain": [
       "['tokenizer_model_50\\\\vocab.json', 'tokenizer_model_50\\\\merges.txt']"
      ]
     },
     "execution_count": 48,
     "metadata": {},
     "output_type": "execute_result"
    }
   ],
   "source": [
    "os.mkdir('./tokenizer_model_50')\n",
    "tokenizer.save_model('tokenizer_model_50')"
   ]
  },
  {
   "cell_type": "code",
   "execution_count": 49,
   "id": "cfd5eda2-885d-4400-9b93-e60ac2208624",
   "metadata": {},
   "outputs": [],
   "source": [
    "tokenizer = RobertaTokenizer.from_pretrained('tokenizer_model_50', max_len=512)"
   ]
  },
  {
   "cell_type": "code",
   "execution_count": 50,
   "id": "45c59e53-4302-4d59-9acd-3d7860000dae",
   "metadata": {},
   "outputs": [
    {
     "data": {
      "text/plain": [
       "{'input_ids': [0, 12563, 455, 2], 'attention_mask': [1, 1, 1, 1]}"
      ]
     },
     "execution_count": 50,
     "metadata": {},
     "output_type": "execute_result"
    }
   ],
   "source": [
    "tokenizer('хӏалтӏиги')"
   ]
  }
 ],
 "metadata": {
  "kernelspec": {
   "display_name": "Python 3 (ipykernel)",
   "language": "python",
   "name": "python3"
  },
  "language_info": {
   "codemirror_mode": {
    "name": "ipython",
    "version": 3
   },
   "file_extension": ".py",
   "mimetype": "text/x-python",
   "name": "python",
   "nbconvert_exporter": "python",
   "pygments_lexer": "ipython3",
   "version": "3.10.10"
  }
 },
 "nbformat": 4,
 "nbformat_minor": 5
}
