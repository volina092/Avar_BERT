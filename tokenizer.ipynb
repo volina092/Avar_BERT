{
 "cells": [
  {
   "cell_type": "code",
   "execution_count": 5,
   "id": "795c638f-05bc-497d-8c6f-ec5dce47fefd",
   "metadata": {},
   "outputs": [],
   "source": [
    "from tokenizers import ByteLevelBPETokenizer\n",
    "import os"
   ]
  },
  {
   "cell_type": "code",
   "execution_count": 3,
   "id": "1433feb4-31e2-4e07-bb98-15d17dfc5e68",
   "metadata": {},
   "outputs": [],
   "source": [
    "tokenizer = ByteLevelBPETokenizer()"
   ]
  },
  {
   "cell_type": "code",
   "execution_count": 16,
   "id": "ac56b822-5672-45d1-a2f8-1b193102f8aa",
   "metadata": {},
   "outputs": [],
   "source": [
    "path = r'C:\\m092\\avar_bert\\raw_corpora'\n",
    "paths = [path + '\\\\' + fn for fn in os.listdir(path)]"
   ]
  },
  {
   "cell_type": "code",
   "execution_count": 18,
   "id": "acc42940-4c97-49d4-b7f0-c2c3b183e700",
   "metadata": {},
   "outputs": [],
   "source": [
    "tokenizer.train(files = paths, vocab_size = 30_522, min_frequency = 2,\n",
    "                special_tokens=['<s>', '<pad>', '</s>', '<unk>', '<mask>'])"
   ]
  },
  {
   "cell_type": "code",
   "execution_count": 19,
   "id": "5d2478bb-3103-4532-bb76-3d8dd3b02a8b",
   "metadata": {},
   "outputs": [
    {
     "data": {
      "text/plain": [
       "['tokenizerModel\\\\vocab.json', 'tokenizerModel\\\\merges.txt']"
      ]
     },
     "execution_count": 19,
     "metadata": {},
     "output_type": "execute_result"
    }
   ],
   "source": [
    "os.mkdir('./tokenizerModel')\n",
    "tokenizer.save_model('tokenizerModel')"
   ]
  }
 ],
 "metadata": {
  "kernelspec": {
   "display_name": "Python 3 (ipykernel)",
   "language": "python",
   "name": "python3"
  },
  "language_info": {
   "codemirror_mode": {
    "name": "ipython",
    "version": 3
   },
   "file_extension": ".py",
   "mimetype": "text/x-python",
   "name": "python",
   "nbconvert_exporter": "python",
   "pygments_lexer": "ipython3",
   "version": "3.10.10"
  }
 },
 "nbformat": 4,
 "nbformat_minor": 5
}
