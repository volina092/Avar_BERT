{
 "cells": [
  {
   "cell_type": "code",
   "execution_count": null,
   "id": "cf81867f-30d9-412c-8c18-b236696aaa91",
   "metadata": {},
   "outputs": [],
   "source": [
    "from transformers import RobertaTokenizerFast, RobertaForMaskedLM\n",
    "from transformers import AutoTokenizer, AutoModelForMaskedLM\n",
    "import json\n",
    "import statistics\n",
    "import numpy as np"
   ]
  },
  {
   "cell_type": "code",
   "execution_count": null,
   "id": "f495911a-779c-43f8-b003-39030958e441",
   "metadata": {},
   "outputs": [],
   "source": [
    "model = RobertaForMaskedLM.from_pretrained(r'avarBERT-12_epochs').to('cuda')\n",
    "tokenizer = RobertaTokenizerFast.from_pretrained(r'avarBERT-12_epochs')\n",
    "# ts_tokenizer = AutoTokenizer.from_pretrained(\"MoseliMotsoehli/TswanaBert\")\n",
    "# ts_model = AutoModelForMaskedLM.from_pretrained(\"MoseliMotsoehli/TswanaBert\").to('cuda')"
   ]
  },
  {
   "cell_type": "code",
   "execution_count": null,
   "id": "1c789bed-8b46-485b-a34c-b33c4dd23759",
   "metadata": {},
   "outputs": [],
   "source": [
    "with open('ppl_50_avar.json', 'r', encoding='utf-8') as f:\n",
    "    texts = json.load(f)\n",
    "# with open('ppl_30_tswana.json.json', 'r', encoding='utf-8') as f:\n",
    "#     texts = json.load(f)"
   ]
  },
  {
   "cell_type": "code",
   "execution_count": null,
   "id": "1dbfc319-d2b8-4d24-8c6f-fd69513a2d50",
   "metadata": {},
   "outputs": [],
   "source": [
    "ppl_sents = []\n",
    "for text in texts:\n",
    "    ppl = score(model = model, tokenizer = tokenizer, sentence=text)\n",
    "    # ppl = score(model = ts_model, tokenizer = ts_tokenizer, sentence=text)\n",
    "    ppl_sents.append(ppl)"
   ]
  },
  {
   "cell_type": "code",
   "execution_count": null,
   "id": "a976d7af-eb5b-490f-bf6d-a86d17c7114d",
   "metadata": {},
   "outputs": [],
   "source": [
    "print(f'Среднее {statistics.mean(ppl_sents)}')\n",
    "print(f'Медиана {statistics.median(ppl_sents)}')"
   ]
  }
 ],
 "metadata": {
  "kernelspec": {
   "display_name": "Python 3 (ipykernel)",
   "language": "python",
   "name": "python3"
  },
  "language_info": {
   "codemirror_mode": {
    "name": "ipython",
    "version": 3
   },
   "file_extension": ".py",
   "mimetype": "text/x-python",
   "name": "python",
   "nbconvert_exporter": "python",
   "pygments_lexer": "ipython3",
   "version": "3.10.10"
  }
 },
 "nbformat": 4,
 "nbformat_minor": 5
}
